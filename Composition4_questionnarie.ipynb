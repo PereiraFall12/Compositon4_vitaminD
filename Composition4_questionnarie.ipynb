{
  "cells": [
    {
      "cell_type": "code",
      "execution_count": 1,
      "metadata": {
        "colab": {
          "base_uri": "https://localhost:8080/"
        },
        "id": "ivzNRKjX86cD",
        "outputId": "896c564a-e59e-4217-b223-b9818e2af72c"
      },
      "outputs": [
        {
          "output_type": "stream",
          "name": "stderr",
          "text": [
            "/tmp/ipython-input-1824285257.py:21: FutureWarning: Downcasting behavior in `replace` is deprecated and will be removed in a future version. To retain the old behavior, explicitly call `result.infer_objects(copy=False)`. To opt-in to the future behavior, set `pd.set_option('future.no_silent_downcasting', True)`\n",
            "  new_df[\"4) Quanto tempo de sol você toma por semana?\"] = new_df[\"4) Quanto tempo de sol você toma por semana?\"].replace(tempo_sol_map)\n",
            "/tmp/ipython-input-1824285257.py:30: FutureWarning: Downcasting behavior in `replace` is deprecated and will be removed in a future version. To retain the old behavior, explicitly call `result.infer_objects(copy=False)`. To opt-in to the future behavior, set `pd.set_option('future.no_silent_downcasting', True)`\n",
            "  new_df[col] = new_df[col].replace(frequencia_map)\n"
          ]
        },
        {
          "output_type": "stream",
          "name": "stdout",
          "text": [
            "Sun and 5) Cansaço constante : -0.05494888862626898\n",
            "food and 5) Cansaço constante : -0.23449325547079172\n",
            "Sun and 6) Dores musculares ou fraqueza: -0.06806626664856227\n",
            "food and 6) Dores musculares ou fraqueza: -0.20279847380913343\n",
            "Sun and 7) Queda de cabelo e unhas frágeis: -0.3298406774767415\n",
            "food and 7) Queda de cabelo e unhas frágeis: -0.08568023625904568\n",
            "Sun and 8) Dificuldade de concentração: -0.0845019200951313\n",
            "food and 8) Dificuldade de concentração: -0.11130491432079737\n",
            "Sun and 9) Alterações de humor: -0.12534231533219908\n",
            "food and 9) Alterações de humor: -0.1484394973405198\n",
            "correlation habits + symptoms: -0.23671563834521936\n"
          ]
        }
      ],
      "source": [
        "import pandas as pd\n",
        "\n",
        "df = pd.read_csv(\"csv_responses_vitamin_D.csv\")\n",
        "new_df = df.copy()\n",
        "\n",
        "tempo_sol_map = {\n",
        "    \"menos de 15 minutos\": 1,\n",
        "    \"15 minutos a 1 hora\": 2,\n",
        "    \"1 a 2 horas\": 3,\n",
        "    \"Mais de 2 horas\": 4\n",
        "}\n",
        "\n",
        "frequencia_map = {\n",
        "    \"Nunca\": 1,\n",
        "    \"Raramente\": 2,\n",
        "    \"Ocasionalmente\": 3,\n",
        "    \"Frequentemente\": 4,\n",
        "    \"Sempre\": 5\n",
        "}\n",
        "\n",
        "new_df[\"4) Quanto tempo de sol você toma por semana?\"] = new_df[\"4) Quanto tempo de sol você toma por semana?\"].replace(tempo_sol_map)\n",
        "\n",
        "for col in [\n",
        "    \"5) Cansaço constante \",\n",
        "    \"6) Dores musculares ou fraqueza\",\n",
        "    \"7) Queda de cabelo e unhas frágeis\",\n",
        "    \"8) Dificuldade de concentração\",\n",
        "    \"9) Alterações de humor\"\n",
        "]:\n",
        "    new_df[col] = new_df[col].replace(frequencia_map)\n",
        "\n",
        "for col in [\n",
        "    \"5) Cansaço constante \",\n",
        "    \"6) Dores musculares ou fraqueza\",\n",
        "    \"7) Queda de cabelo e unhas frágeis\",\n",
        "    \"8) Dificuldade de concentração\",\n",
        "    \"9) Alterações de humor\"\n",
        "]:\n",
        "  tau = new_df[\"4) Quanto tempo de sol você toma por semana?\"].corr(\n",
        "      new_df[col],\n",
        "      method=\"kendall\"\n",
        "  )\n",
        "\n",
        "  print(f\"Sun and {col}: {tau}\")\n",
        "\n",
        "  tau1 = new_df[\"3) Em uma escala de 1 à 5, o quanto você come alimentos ricos em vitamina D (peixes, ovos, lacticínios...) ?\"].corr(\n",
        "      new_df[col],\n",
        "      method=\"kendall\"\n",
        "  )\n",
        "  print(f\"food and {col}: {tau1}\")\n",
        "\n",
        "new_df[\"sum_habits\"] = new_df[\"3) Em uma escala de 1 à 5, o quanto você come alimentos ricos em vitamina D (peixes, ovos, lacticínios...) ?\"] + new_df['4) Quanto tempo de sol você toma por semana?']\n",
        "new_df[\"sum_symptoms\"] = new_df[\"5) Cansaço constante \"] + new_df[\"6) Dores musculares ou fraqueza\"] + new_df[\"7) Queda de cabelo e unhas frágeis\"] + new_df[\"8) Dificuldade de concentração\"] + new_df[\"9) Alterações de humor\"]\n",
        "\n",
        "tau2 = new_df[\"sum_habits\"].corr(\n",
        "    new_df[\"sum_symptoms\"],\n",
        "    method=\"kendall\"\n",
        ")\n",
        "\n",
        "print(f\"correlation habits + symptoms: {tau2}\")\n",
        "\n"
      ]
    },
    {
      "cell_type": "code",
      "source": [
        "print(new_df.columns)"
      ],
      "metadata": {
        "colab": {
          "base_uri": "https://localhost:8080/"
        },
        "id": "TUhL03wbbqnE",
        "outputId": "f0daa1a0-4cf9-4687-bb36-4c930672d007"
      },
      "execution_count": 2,
      "outputs": [
        {
          "output_type": "stream",
          "name": "stdout",
          "text": [
            "Index(['Carimbo de data/hora', '1) Gênero', '2) Idade',\n",
            "       '3) Em uma escala de 1 à 5, o quanto você come alimentos ricos em vitamina D (peixes, ovos, lacticínios...) ?',\n",
            "       '4) Quanto tempo de sol você toma por semana?', '5) Cansaço constante ',\n",
            "       '6) Dores musculares ou fraqueza', '7) Queda de cabelo e unhas frágeis',\n",
            "       '8) Dificuldade de concentração', '9) Alterações de humor',\n",
            "       'sum_habits', 'sum_symptoms'],\n",
            "      dtype='object')\n"
          ]
        }
      ]
    },
    {
      "cell_type": "code",
      "source": [
        "from scipy.stats import kendalltau\n",
        "\n",
        "for habits in ['3) Em uma escala de 1 à 5, o quanto você come alimentos ricos em vitamina D (peixes, ovos, lacticínios...) ?', '4) Quanto tempo de sol você toma por semana?']:\n",
        "\n",
        "  print(habits)\n",
        "  print()\n",
        "\n",
        "  for symptoms in ['5) Cansaço constante ', '6) Dores musculares ou fraqueza', '7) Queda de cabelo e unhas frágeis', '8) Dificuldade de concentração', '9) Alterações de humor']:\n",
        "    tau, p_value = kendalltau(new_df[habits], new_df[symptoms])\n",
        "    print(symptoms)\n",
        "    print(f\"Tau: {tau}\")\n",
        "    print(f\"P-value: {p_value}\")\n",
        "\n",
        "    if p_value < 0.05:\n",
        "      print(\"A correlação é estatisticamente significante.\")\n",
        "    else:\n",
        "      print(\"A correlação não é estatisticamente significante.\")\n",
        "    print()\n",
        "\n"
      ],
      "metadata": {
        "colab": {
          "base_uri": "https://localhost:8080/"
        },
        "id": "1EGPtQoAVwYR",
        "outputId": "2713624d-9ed8-44e8-988a-5a6ba9abbbba"
      },
      "execution_count": 3,
      "outputs": [
        {
          "output_type": "stream",
          "name": "stdout",
          "text": [
            "3) Em uma escala de 1 à 5, o quanto você come alimentos ricos em vitamina D (peixes, ovos, lacticínios...) ?\n",
            "\n",
            "5) Cansaço constante \n",
            "Tau: -0.23449325547079172\n",
            "P-value: 0.003092309125157774\n",
            "A correlação é estatisticamente significante.\n",
            "\n",
            "6) Dores musculares ou fraqueza\n",
            "Tau: -0.20279847380913343\n",
            "P-value: 0.011240577303952289\n",
            "A correlação é estatisticamente significante.\n",
            "\n",
            "7) Queda de cabelo e unhas frágeis\n",
            "Tau: -0.08568023625904568\n",
            "P-value: 0.2792168971691489\n",
            "A correlação não é estatisticamente significante.\n",
            "\n",
            "8) Dificuldade de concentração\n",
            "Tau: -0.11130491432079737\n",
            "P-value: 0.159768126242416\n",
            "A correlação não é estatisticamente significante.\n",
            "\n",
            "9) Alterações de humor\n",
            "Tau: -0.1484394973405198\n",
            "P-value: 0.05936646933176437\n",
            "A correlação não é estatisticamente significante.\n",
            "\n",
            "4) Quanto tempo de sol você toma por semana?\n",
            "\n",
            "5) Cansaço constante \n",
            "Tau: -0.05494888862626898\n",
            "P-value: 0.49534165156370913\n",
            "A correlação não é estatisticamente significante.\n",
            "\n",
            "6) Dores musculares ou fraqueza\n",
            "Tau: -0.06806626664856227\n",
            "P-value: 0.40266536526813246\n",
            "A correlação não é estatisticamente significante.\n",
            "\n",
            "7) Queda de cabelo e unhas frágeis\n",
            "Tau: -0.3298406774767415\n",
            "P-value: 4.183431010155736e-05\n",
            "A correlação é estatisticamente significante.\n",
            "\n",
            "8) Dificuldade de concentração\n",
            "Tau: -0.0845019200951313\n",
            "P-value: 0.29383263578568297\n",
            "A correlação não é estatisticamente significante.\n",
            "\n",
            "9) Alterações de humor\n",
            "Tau: -0.12534231533219908\n",
            "P-value: 0.11737183925789846\n",
            "A correlação não é estatisticamente significante.\n",
            "\n"
          ]
        }
      ]
    }
  ],
  "metadata": {
    "colab": {
      "provenance": []
    },
    "kernelspec": {
      "display_name": "Python 3",
      "name": "python3"
    },
    "language_info": {
      "name": "python"
    }
  },
  "nbformat": 4,
  "nbformat_minor": 0
}